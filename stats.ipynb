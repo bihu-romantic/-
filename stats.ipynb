{
 "cells": [
  {
   "cell_type": "code",
   "execution_count": 2,
   "metadata": {},
   "outputs": [],
   "source": [
    "import numpy as np\n",
    "from scipy import stats\n",
    "np.random.seed(12345678)\n",
    "x = stats.norm.rvs(loc=5, scale=3, size=100)\n",
    "##stats.shapiro(x)"
   ]
  },
  {
   "cell_type": "code",
   "execution_count": 3,
   "metadata": {},
   "outputs": [
    {
     "data": {
      "text/plain": [
       "array([ 6.66112457,  0.62110402,  1.11624458,  0.47097816,  9.7156247 ,\n",
       "        2.07291143,  6.44209636,  6.87684292,  7.16705905,  7.73097933,\n",
       "        5.15740241,  0.79962718,  4.50698055,  2.99174521,  7.1359379 ,\n",
       "        7.56596324,  5.52939014,  8.20725877,  6.51969839,  7.14061325,\n",
       "        7.01466545,  8.14646883,  4.8883775 ,  5.16711003, 10.76238383,\n",
       "        8.21544166,  7.57294577,  7.0347106 ,  1.450277  ,  2.21320323,\n",
       "        4.29635357,  2.05605854,  8.83555745,  8.35705141,  8.1904709 ,\n",
       "        8.19477473,  8.93832515,  7.08430618, 10.1528604 ,  6.1345226 ,\n",
       "        3.39782353,  5.62714179,  7.53624464,  9.30945839,  7.27855527,\n",
       "        8.13502557, 10.38316244,  3.80397247,  6.97555238,  3.83253193,\n",
       "        9.78948565,  5.40269326,  2.30568476,  4.90665949,  8.47215826,\n",
       "        3.74800578,  3.76577354,  4.3219004 ,  5.90929755, -0.87384642,\n",
       "        4.58531131,  6.50806448,  5.60776261,  4.5796361 ,  7.00237742,\n",
       "        2.2279008 ,  3.53679091,  1.18695449,  0.50494142,  7.12692746,\n",
       "        2.6481669 ,  2.39949394,  8.22869619,  8.17451467,  3.13466687,\n",
       "        1.45881623,  5.40598013,  8.48854614,  9.80069622,  8.88392022,\n",
       "       10.05127376,  7.70080223,  3.86361053,  5.80693278, 10.31383678,\n",
       "        7.51227476,  7.46698331,  1.55142539,  5.81500112,  6.29098161,\n",
       "        5.4283857 ,  9.73670434, 11.36036308,  5.23503827,  9.77664788,\n",
       "        2.65078881,  5.2251827 ,  4.05546068,  2.33928304,  3.54451073])"
      ]
     },
     "execution_count": 3,
     "metadata": {},
     "output_type": "execute_result"
    }
   ],
   "source": [
    "x"
   ]
  },
  {
   "cell_type": "code",
   "execution_count": 8,
   "metadata": {},
   "outputs": [
    {
     "data": {
      "image/png": "[encoded data removed]",
      "text/plain": [
       "<matplotlib.figure.Figure at 0x1bcb8c4df60>"
      ]
     },
     "metadata": {},
     "output_type": "display_data"
    }
   ],
   "source": [
    "import matplotlib.pyplot as plt\n",
    "%matplotlib inline\n",
    "plt.hist(x, bins=40, normed=0, facecolor=\"blue\", edgecolor=\"black\", alpha=0.7)\n",
    "plt.show()"
   ]
  },
  {
   "cell_type": "code",
   "execution_count": 9,
   "metadata": {},
   "outputs": [
    {
     "data": {
      "text/plain": [
       "(0.9772805571556091, 0.08144091814756393)"
      ]
     },
     "execution_count": 9,
     "metadata": {},
     "output_type": "execute_result"
    }
   ],
   "source": [
    "stats.shapiro(x)"
   ]
  },
  {
   "cell_type": "code",
   "execution_count": null,
   "metadata": {
    "collapsed": true
   },
   "outputs": [],
   "source": []
  }
 ],
 "metadata": {
  "kernelspec": {
   "display_name": "Python 3",
   "language": "python",
   "name": "python3"
  },
  "language_info": {
   "codemirror_mode": {
    "name": "ipython",
    "version": 3
   },
   "file_extension": ".py",
   "mimetype": "text/x-python",
   "name": "python",
   "nbconvert_exporter": "python",
   "pygments_lexer": "ipython3",
   "version": "3.6.2"
  }
 },
 "nbformat": 4,
 "nbformat_minor": 2
}
