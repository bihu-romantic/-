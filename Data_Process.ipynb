{
 "cells": [
  {
   "cell_type": "code",
   "execution_count": null,
   "metadata": {
    "collapsed": true
   },
   "outputs": [],
   "source": [
    "class Date_Process:\n",
    "    def __init__(self):\n",
    "        self.rank_dic = {}\n",
    "\n",
    "    def time_eda(self,df):\n",
    "        df['year']      =   df['PatrolTime'].dt.year\n",
    "        df['month']     =   df['PatrolTime'].dt.month\n",
    "        df['day']       =   df['PatrolTime'].dt.day\n",
    "        df['hour']        =   df['PatrolTime'].dt.hour\n",
    "        df['day_of_week'] =   df['PatrolTime'].dt.dayofweek\n",
    "        return df\n",
    "\n",
    "    def ranks_fit_transform(self,df):\n",
    "        df['ranks'] = df['year'] * 400 +  df['month'] * 40 + df['day']\n",
    "\n",
    "        rank_sort = np.sort(df['ranks'].unique())\n",
    "        rank_dic = {}\n",
    "        for i,val in enumerate(rank_sort):\n",
    "            rank_dic[val] = i + 1\n",
    "        df['ranks'] = df['ranks'].map(rank_dic)\n",
    "        self.rank_dic = rank_dic\n",
    "        return df"
   ]
  }
 ],
 "metadata": {
  "kernelspec": {
   "display_name": "Python 3",
   "language": "python",
   "name": "python3"
  },
  "language_info": {
   "codemirror_mode": {
    "name": "ipython",
    "version": 3
   },
   "file_extension": ".py",
   "mimetype": "text/x-python",
   "name": "python",
   "nbconvert_exporter": "python",
   "pygments_lexer": "ipython3",
   "version": "3.6.2"
  }
 },
 "nbformat": 4,
 "nbformat_minor": 2
}
